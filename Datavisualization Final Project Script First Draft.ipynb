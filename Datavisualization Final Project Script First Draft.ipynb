{
 "cells": [
  {
   "cell_type": "markdown",
   "metadata": {},
   "source": [
    "# Selecting an API\n",
    "\n",
    "1. IUCN Red List (graph idea: mapping, which species have most endangered animals, etc).\n",
    "2. PetFinder cat shelter statistics (has potential to be very sad)\n",
    "3. Spotify listening history (has the potential to be very interesting)\n"
   ]
  },
  {
   "cell_type": "markdown",
   "metadata": {},
   "source": [
    "# API Selection: Spotify\n",
    "\n",
    "# API Selection: Petfinder\n",
    "API: ETbcxq3GjmCrnqvDd0G1uEGEkmlmN3HuMTv0jYVZOyFAJ6aIeR\n",
    "SECRET: MhF3UjAfsd9Fm8pfqmzslNBM8Tm7SLglqvXvYJFE\n",
    "how to use: https://www.petfinder.com/developers/v2/docs/"
   ]
  }
 ],
 "metadata": {
  "kernelspec": {
   "display_name": "Python 3",
   "language": "python",
   "name": "python3"
  },
  "language_info": {
   "codemirror_mode": {
    "name": "ipython",
    "version": 3
   },
   "file_extension": ".py",
   "mimetype": "text/x-python",
   "name": "python",
   "nbconvert_exporter": "python",
   "pygments_lexer": "ipython3",
   "version": "3.7.6"
  }
 },
 "nbformat": 4,
 "nbformat_minor": 4
}
