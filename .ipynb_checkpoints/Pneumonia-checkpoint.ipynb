{
 "cells": [
  {
   "cell_type": "markdown",
   "metadata": {},
   "source": [
    "# Data Visualization Final Project\n",
    "## Cleo Falvey"
   ]
  },
  {
   "cell_type": "markdown",
   "metadata": {},
   "source": [
    "This project features data regarding death by pneumonia, collected from the CDC [here](https://data.cdc.gov/NCHS/Provisional-Death-Counts-for-Influenza-Pneumonia-a/ynw2-4viq). Pneumonia is a pathology that includes the inflammation of the lung. Diseases that cause pneumonia, such as influenza and Covid-19, have come into the spotlight recently with the emergence of the pandemic.\n",
    "\n",
    "The Covid-19 pandemic has become a huge public health issue in the United States ever since being identified in Wuhan, China in 2019. As of the time of this project's submission, there have been over 50 million cases and 763,000 deaths in the US alone. This has been in part due to the fact that it is a novel virus, poor management strategies, and the pandemic of disinformation surrounding Covid-19 vaccines. In a NSF-REU program at the University of Chattanooga, Tennessee back in 2020, I used different data from Apple and Google mobility scores as a proxy for social distancing. I correlated this with R_0, the reproductive number of the virus, and temperature. You can see that visualization [here](https://www.youtube.com/watch?v=SJlsJsTr03s). I think that the data is very interesting and am excited to work with it in a new way, especially after the pandemic has progressed for over a year and a half now. \n",
    "\n",
    "To start working with this data, let's first import our packages. We will be using a variety of packages for the each step of the visualizations. I have listed them below and commented their purpose."
   ]
  },
  {
   "cell_type": "code",
   "execution_count": null,
   "metadata": {},
   "outputs": [],
   "source": [
    "import pandas as pd # for reading in and cleaning data\n",
    "from bokeh.io import output_notebook # for visualizing data\n",
    "from bokeh.plotting import figure, show # for printing data to our screen\n",
    "from math import pi # to potentially make a pie chart\n",
    "from bokeh.palettes import Category20c # to potentially make a pie chart\n",
    "from bokeh.transform import cumsum # to potentially make a pie chart\n",
    "import hvplot.pandas # to create interactives\n",
    "import numpy as np # to use math\n",
    "import panel as pn  # to display dashboards"
   ]
  },
  {
   "cell_type": "markdown",
   "metadata": {},
   "source": [
    "# Data Importation"
   ]
  },
  {
   "cell_type": "code",
   "execution_count": null,
   "metadata": {},
   "outputs": [],
   "source": [
    "pneumonia = pd.read_csv(\"pneumonia.csv\")"
   ]
  },
  {
   "cell_type": "code",
   "execution_count": null,
   "metadata": {},
   "outputs": [],
   "source": [
    "# ideas for graphs: want to have a variety of different visualizations with compelling colors\n",
    "\n",
    "# by age group - bar graphs?\n",
    "# by state (map)\n",
    "# line graph of x - time, y - counts of Pneumonia, Covid, Flu\n",
    "\n",
    "# line graph of correlation between covid and flu - color by case count?\n",
    "\n",
    "print(pneumonia)\n",
    "\n"
   ]
  },
  {
   "cell_type": "raw",
   "metadata": {},
   "source": [
    "# Data Cleaning\n",
    "\n",
    "    The cleaning steps include replacing the spaces and the dashes in the dataset with underscores so that they are easier understood by Python in the later analyses. Also, in our dataset, we can see that the data is aggregated by weeks, shown by the column 'Week Ending Date.' We'll be coercing that to a date so that the plots come out with date on the x-axis as necessary."
   ]
  },
  {
   "cell_type": "code",
   "execution_count": null,
   "metadata": {},
   "outputs": [],
   "source": [
    "pneumonia.columns = pneumonia.columns.str.replace(' ','_')\n",
    "pneumonia.columns = pneumonia.columns.str.replace('-','_')\n",
    "pneumonia['End_Week'] = pd.to_datetime(pneumonia['End_Week'])"
   ]
  },
  {
   "cell_type": "markdown",
   "metadata": {},
   "source": [
    "    It's now time to start visualizing our data. Let's first look at the deaths due to Covid-19 over time. Let's summarize our data by grouping it by age group. We also want to filter our data to be the total sums of the data by filtering it so that it includes the United States data as the locality and not the other states. Here, we can see total deaths from pneumonia (from Covid-19, influenza, and other souces) broken down by age group."
   ]
  },
  {
   "cell_type": "code",
   "execution_count": null,
   "metadata": {},
   "outputs": [],
   "source": [
    "pneumonia_us = pneumonia[pneumonia.Jurisdiction == 'United States']\n",
    "pneumonia_us.groupby('Age_Group', axis=0)\n",
    "\n",
    "output_notebook()\n",
    "# pneumonia_us.plot(kind='scatter',x='End_Week',y='Total_Deaths')\n",
    "\n",
    "color_mapper = {\n",
    "    'All Ages':'teal',\n",
    "    '0-17 years':'indigo',\n",
    "    '18-64 years':'orange',\n",
    "    '65 years and over':'skyblue'\n",
    "}\n",
    "def visualize_data(selections):\n",
    "    # create the mask by checking which labels are in our selections\n",
    "    # and which values are less than or equal to our threshold\n",
    "    mask = (pneumonia_us.Age_Group.isin(selections))\n",
    "    return pneumonia_us[mask].hvplot.scatter( # apply the mask and scatter via hvPlot\n",
    "        x='End_Week',                       # put the id on the x-axis\n",
    "        y='Total_Deaths',                    # put the value on the y-xis\n",
    "        color='Age_Group',\n",
    "        cmap=color_mapper\n",
    "    )\n",
    "label_selector = pn.widgets.MultiSelect(name='Age_Group', options=['All Ages', '0-17 years', '18-64 years','65 years and over'], value=['All Ages', '0-17 years', '18-64 years','65 years and over'])\n",
    "interaction = pn.interact(visualize_data, selections=label_selector)\n",
    "\n",
    "interaction"
   ]
  },
  {
   "cell_type": "markdown",
   "metadata": {},
   "source": [
    "We can see that in the visualization above, the highest mortalities were people who were 65 years or older, and the lowest mortalities were in the 0-17 year old age class. However, one thing I would have liked to see in the CDC data is a higher stratification of age groups. The middle age class, 18 to 64 years, spans 46 years of life and obviously a 64-year-old is going to have different health outcomes and prognoses than a 19-year-old despite still being in the same age category in this dataset.\n",
    "\n",
    "However, let's do some more digging. Let's look at the response by state (amongst all age classes). We will be using only the influenza data to do this because the data table actually becomes more inclusive in another unintuitive way - going from influenza only to influenza or Covid-19 without further breakdowns). "
   ]
  },
  {
   "cell_type": "code",
   "execution_count": null,
   "metadata": {},
   "outputs": [],
   "source": [
    "import matplotlib.pyplot as plt\n",
    "\n",
    "flu = pneumonia[['Influenza_Deaths','End_Week', 'Jurisdiction']]\n",
    "flu = flu[~ flu.Jurisdiction.isin(['United States', 'HHS Region 1', 'HHS Region 2' ,\n",
    "    'HHS Region 3' ,'HHS Region 4','HHS Region 5', 'HHS Region 6' ,'HHS Region 7', 'HHS Region 8',\n",
    " 'HHS Region 9', 'HHS Region 10'])]\n",
    "          \n",
    "# flu.plot(kind='scatter',x='End_Week', y='Influenza_Deaths')\n",
    "\n",
    "flu.Jurisdiction.unique()"
   ]
  },
  {
   "cell_type": "code",
   "execution_count": null,
   "metadata": {},
   "outputs": [],
   "source": [
    "import geopandas as gpd\n",
    "\n",
    "usa = gpd.read_file(\"./states21basic/\")\n",
    "print(usa)\n",
    "usa.plot()"
   ]
  },
  {
   "cell_type": "code",
   "execution_count": null,
   "metadata": {},
   "outputs": [],
   "source": [
    "mergedata = usa.merge(pneumonia, how='inner', left_on='state_name', right_on='Jurisdiction')\n",
    "mergedata\n",
    "\n",
    "\n",
    "mergedata.plot()\n",
    "\n"
   ]
  },
  {
   "cell_type": "code",
   "execution_count": null,
   "metadata": {},
   "outputs": [],
   "source": [
    "slider = Slider(title = 'Month', \n",
    "                start = 1, end = 12, \n",
    "                step = 1, value = 1)"
   ]
  },
  {
   "cell_type": "code",
   "execution_count": null,
   "metadata": {},
   "outputs": [],
   "source": []
  },
  {
   "cell_type": "code",
   "execution_count": null,
   "metadata": {},
   "outputs": [],
   "source": [
    "\n",
    "mergedata.hvplot(color='Total_Deaths')"
   ]
  }
 ],
 "metadata": {
  "kernelspec": {
   "display_name": "Python 3",
   "language": "python",
   "name": "python3"
  },
  "language_info": {
   "codemirror_mode": {
    "name": "ipython",
    "version": 3
   },
   "file_extension": ".py",
   "mimetype": "text/x-python",
   "name": "python",
   "nbconvert_exporter": "python",
   "pygments_lexer": "ipython3",
   "version": "3.7.6"
  }
 },
 "nbformat": 4,
 "nbformat_minor": 4
}
